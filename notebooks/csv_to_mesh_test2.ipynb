{
 "cells": [
  {
   "cell_type": "code",
   "execution_count": 110,
   "metadata": {},
   "outputs": [
    {
     "name": "stdout",
     "output_type": "stream",
     "text": [
      "       Unnamed: 0    x   z  value  y\n",
      "0               0    0   0    1.0  0\n",
      "1               1    0   1    1.0  0\n",
      "2               2    0   2    1.0  0\n",
      "3               3    0   3    1.0  0\n",
      "4               4    0   4    4.0  0\n",
      "...           ...  ...  ..    ... ..\n",
      "16379       16379  511  27    1.0  0\n",
      "16380       16380  511  28    1.0  0\n",
      "16381       16381  511  29    1.0  0\n",
      "16382       16382  511  30    1.0  0\n",
      "16383       16383  511  31    3.0  0\n",
      "\n",
      "[16384 rows x 5 columns]\n"
     ]
    }
   ],
   "source": [
    "import numpy as np\n",
    "import pandas as pd\n",
    "import subprocess\n",
    "import sys\n",
    "from pygimli.meshtools import readGmsh\n",
    "import pygimli as pg\n",
    "\n",
    "from scipy.spatial import distance_matrix\n",
    "from itertools import combinations\n",
    "\n",
    "\n",
    "csv_file = '../data/cs_694.csv'\n",
    "\n",
    "data = pd.read_csv(csv_file)\n",
    "data = data.rename(columns={'IC':'value'})\n",
    "data['y'] = np.zeros(len(data['x']), dtype=int)\n",
    "data['z'] = data['z']\n",
    "\n",
    "print(data)\n",
    "\n",
    "\n",
    "\n"
   ]
  },
  {
   "cell_type": "code",
   "execution_count": 111,
   "metadata": {},
   "outputs": [],
   "source": [
    "nodes = data[['x','y','z']].to_numpy()\n",
    "\n",
    "node_numbers = list(range(1, len(nodes) + 1))\n",
    "\n",
    "\n",
    "def find_closest_triplets(nodes, node_numbers):\n",
    "    # Compute pairwise distance matrix\n",
    "    dist_matrix = distance_matrix(nodes, nodes)\n",
    "    triangles = []\n",
    "    \n",
    "    # Iterate through each node\n",
    "    for i in range(len(nodes)):\n",
    "        # Get the distances from the current node to all other nodes\n",
    "        distances = dist_matrix[i]\n",
    "        \n",
    "        # Exclude the distance to itself by setting it to a large number\n",
    "        distances[i] = np.inf\n",
    "\n",
    "        # Find the indices of the two closest nodes\n",
    "        # closest_indices = np.argsort(distances)[:2]\n",
    "        closest_indices = np.where(distances<=1)[0]\n",
    "\n",
    "       \n",
    "        # Form a triangle with the current node and the two closest nodes\n",
    "        triangle = (node_numbers[i], node_numbers[closest_indices[0]], node_numbers[closest_indices[1]])\n",
    "        for k in range(len(closest_indices)-1):\n",
    "            triangle = (node_numbers[i], node_numbers[closest_indices[k]], node_numbers[closest_indices[k+1]], int(data['value'][i]))\n",
    "            triangles.append((triangle))\n",
    "\n",
    "    # Remove duplicates by converting the list of triangles to a set and back to a list\n",
    "    triangles = list(set(triangles))\n",
    "    \n",
    "    return triangles\n",
    "\n",
    "triangles = find_closest_triplets(nodes, node_numbers)\n"
   ]
  },
  {
   "cell_type": "code",
   "execution_count": 112,
   "metadata": {},
   "outputs": [],
   "source": [
    "points = data[['x','y','z']].to_numpy()\n",
    "val = data['value'].tolist()\n",
    "\n",
    "# Open the .msh file\n",
    "with open('../data/mesh_auto2.msh', 'w') as mshfile:\n",
    "    mshfile.write(\"$MeshFormat\\n\")\n",
    "    mshfile.write(\"2.2 0 8\\n\")\n",
    "    mshfile.write(\"$EndMeshFormat\\n\")\n",
    "    mshfile.write(\"$Nodes\\n\")\n",
    "    mshfile.write(f\"{len(points)}\\n\")\n",
    "    for i, (x, y, z) in enumerate(points, 1):\n",
    "        mshfile.write(f\"{i} {x} {y} {z}\\n\")\n",
    "    mshfile.write(\"$EndNodes\\n\")\n",
    "    mshfile.write(\"$Elements\\n\")\n",
    "    mshfile.write(f\"{len(triangles)}\\n\")\n",
    "    for i, (x, y, z, q) in enumerate(triangles, 1):\n",
    "            mshfile.write(f\"{i} {2} {1} {q} {x} {y} {z} \\n\")\n",
    "    \n",
    "    mshfile.write(\"$EndElements\\n\")\n",
    "    "
   ]
  },
  {
   "cell_type": "code",
   "execution_count": 113,
   "metadata": {},
   "outputs": [
    {
     "name": "stdout",
     "output_type": "stream",
     "text": [
      "../data/mesh_auto2.msh\n",
      "WARNING: No boundary conditions found. Setting Neumann on the outer edges by default.\n",
      "Mesh: Nodes: 16384 Cells: 48064 Boundaries: 64447\n",
      "[1. 3. 4. 5.]\n"
     ]
    },
    {
     "data": {
      "text/plain": [
       "(<Axes: xlabel='$x$ in m', ylabel='Depth in m'>,\n",
       " <matplotlib.colorbar.Colorbar at 0x1645fe259d0>)"
      ]
     },
     "execution_count": 113,
     "metadata": {},
     "output_type": "execute_result"
    },
    {
     "data": {
      "image/png": "[encoded data removed]",
      "text/plain": [
       "<Figure size 640x480 with 2 Axes>"
      ]
     },
     "metadata": {},
     "output_type": "display_data"
    }
   ],
   "source": [
    "from pygimli.meshtools import readGmsh\n",
    "import matplotlib.pyplot as plt\n",
    "print(\"../data/mesh_auto2.msh\")\n",
    "mesh= readGmsh(\"../data/mesh_auto2.msh\", verbose=False)\n",
    "print(mesh)\n",
    "a=[]\n",
    "for i in range(1,17560):\n",
    "    a = np.append(a, mesh.cells()[i].marker())\n",
    "\n",
    "print(np.unique(a))\n",
    "testi = [[1,20],[3,40],[4,50],[5,60]]\n",
    "# print(np.array([node_numbers,data['value'].tolist()]))\n",
    "pg.show(mesh,data=testi, showmesh=False)\n"
   ]
  },
  {
   "cell_type": "code",
   "execution_count": null,
   "metadata": {},
   "outputs": [],
   "source": []
  },
  {
   "cell_type": "code",
   "execution_count": 114,
   "metadata": {},
   "outputs": [
    {
     "name": "stdout",
     "output_type": "stream",
     "text": [
      "Data: Sensors: 510 data: 128778, nonzero entries: ['a', 'b', 'k', 'm', 'n', 'valid']\n",
      "128778 [-18.849555921538762,...,-411850243.080823]\n"
     ]
    },
    {
     "ename": "RuntimeError",
     "evalue": "./core/src/inversion.cpp:95\t\tdouble GIMLI::RInversion::getPhiD(const Vec&) const  getPhiD == nan",
     "output_type": "error",
     "traceback": [
      "\u001b[1;31m---------------------------------------------------------------------------\u001b[0m",
      "\u001b[1;31mRuntimeError\u001b[0m                              Traceback (most recent call last)",
      "Cell \u001b[1;32mIn[114], line 10\u001b[0m\n\u001b[0;32m      8\u001b[0m \u001b[38;5;28mprint\u001b[39m(scheme_dd)\n\u001b[0;32m      9\u001b[0m \u001b[38;5;28mprint\u001b[39m(scheme_dd[\u001b[38;5;124m'\u001b[39m\u001b[38;5;124mk\u001b[39m\u001b[38;5;124m'\u001b[39m])\n\u001b[1;32m---> 10\u001b[0m simdata \u001b[38;5;241m=\u001b[39m \u001b[43mert\u001b[49m\u001b[38;5;241;43m.\u001b[39;49m\u001b[43msimulate\u001b[49m\u001b[43m(\u001b[49m\n\u001b[0;32m     11\u001b[0m \u001b[43m         \u001b[49m\u001b[43mmesh\u001b[49m\u001b[38;5;241;43m=\u001b[39;49m\u001b[43mmesh\u001b[49m\u001b[43m,\u001b[49m\u001b[43m \u001b[49m\u001b[43mscheme\u001b[49m\u001b[38;5;241;43m=\u001b[39;49m\u001b[43mscheme_dd\u001b[49m\u001b[43m,\u001b[49m\u001b[43m \u001b[49m\u001b[43mres\u001b[49m\u001b[38;5;241;43m=\u001b[39;49m\u001b[43mtesti\u001b[49m\n\u001b[0;32m     12\u001b[0m \u001b[43m    \u001b[49m\u001b[43m)\u001b[49m\n\u001b[0;32m     14\u001b[0m inversion_dd_1 \u001b[38;5;241m=\u001b[39m inversion(simdata, mesh, saveresult\u001b[38;5;241m=\u001b[39m\u001b[38;5;28;01mFalse\u001b[39;00m)\n",
      "File \u001b[1;32mc:\\Users\\leentvaa\\SaltSimulator\\.pixi\\envs\\default\\Lib\\site-packages\\pygimli\\physics\\ert\\ert.py:206\u001b[0m, in \u001b[0;36msimulate\u001b[1;34m(mesh, scheme, res, **kwargs)\u001b[0m\n\u001b[0;32m    203\u001b[0m \u001b[38;5;28;01mif\u001b[39;00m fop\u001b[38;5;241m.\u001b[39mcomplex():\n\u001b[0;32m    204\u001b[0m     res \u001b[38;5;241m=\u001b[39m pg\u001b[38;5;241m.\u001b[39mutils\u001b[38;5;241m.\u001b[39msqueezeComplex(res)\n\u001b[1;32m--> 206\u001b[0m resp \u001b[38;5;241m=\u001b[39m \u001b[43mfop\u001b[49m\u001b[38;5;241;43m.\u001b[39;49m\u001b[43mresponse\u001b[49m\u001b[43m(\u001b[49m\u001b[43mres\u001b[49m\u001b[43m)\u001b[49m\n\u001b[0;32m    208\u001b[0m \u001b[38;5;28;01mif\u001b[39;00m fop\u001b[38;5;241m.\u001b[39mcomplex():\n\u001b[0;32m    209\u001b[0m     rhoa, phia \u001b[38;5;241m=\u001b[39m pg\u001b[38;5;241m.\u001b[39mutils\u001b[38;5;241m.\u001b[39mtoPolar(resp)\n",
      "File \u001b[1;32mc:\\Users\\leentvaa\\SaltSimulator\\.pixi\\envs\\default\\Lib\\site-packages\\pygimli\\physics\\ert\\ertModelling.py:178\u001b[0m, in \u001b[0;36mERTModelling.response\u001b[1;34m(self, mod)\u001b[0m\n\u001b[0;32m    175\u001b[0m     pg\u001b[38;5;241m.\u001b[39mwarn(\u001b[38;5;124m'\u001b[39m\u001b[38;5;124mflip imaginary part for response calc\u001b[39m\u001b[38;5;124m'\u001b[39m)\n\u001b[0;32m    176\u001b[0m     mod \u001b[38;5;241m=\u001b[39m \u001b[38;5;28mself\u001b[39m\u001b[38;5;241m.\u001b[39mflipImagPart(mod)\n\u001b[1;32m--> 178\u001b[0m resp \u001b[38;5;241m=\u001b[39m \u001b[38;5;28;43mself\u001b[39;49m\u001b[38;5;241;43m.\u001b[39;49m\u001b[43m_core\u001b[49m\u001b[38;5;241;43m.\u001b[39;49m\u001b[43mresponse\u001b[49m\u001b[43m(\u001b[49m\u001b[43mmod\u001b[49m\u001b[43m)\u001b[49m\n\u001b[0;32m    180\u001b[0m \u001b[38;5;28;01mif\u001b[39;00m \u001b[38;5;28mself\u001b[39m\u001b[38;5;241m.\u001b[39mcomplex() \u001b[38;5;129;01mand\u001b[39;00m \u001b[38;5;28mself\u001b[39m\u001b[38;5;241m.\u001b[39m_conjImag:\n\u001b[0;32m    181\u001b[0m     pg\u001b[38;5;241m.\u001b[39mwarn(\u001b[38;5;124m'\u001b[39m\u001b[38;5;124mbackflip imaginary part after response calc\u001b[39m\u001b[38;5;124m'\u001b[39m)\n",
      "\u001b[1;31mRuntimeError\u001b[0m: ./core/src/inversion.cpp:95\t\tdouble GIMLI::RInversion::getPhiD(const Vec&) const  getPhiD == nan"
     ]
    }
   ],
   "source": [
    "from pygimli.physics import ert\n",
    "from ertoolbox import inversion\n",
    "EX = np.unique(data['x'])\n",
    "EZ = np.zeros(len(EX), dtype=int)\n",
    "electrodes = [[x, y] for x, y in zip(EX, EZ)]\n",
    "electrodes = electrodes[1:-1]\n",
    "scheme_dd = ert.createData(elecs=electrodes, schemeName='dd')\n",
    "print(scheme_dd)\n",
    "print(scheme_dd['k'])\n",
    "\n",
    "simdata = ert.simulate(\n",
    "         mesh=mesh, scheme=scheme_dd, res=testi\n",
    "    )\n",
    "\n",
    "inversion_dd_1 = inversion(simdata, mesh, saveresult=False)"
   ]
  }
 ],
 "metadata": {
  "kernelspec": {
   "display_name": "default",
   "language": "python",
   "name": "python3"
  },
  "language_info": {
   "codemirror_mode": {
    "name": "ipython",
    "version": 3
   },
   "file_extension": ".py",
   "mimetype": "text/x-python",
   "name": "python",
   "nbconvert_exporter": "python",
   "pygments_lexer": "ipython3",
   "version": "3.11.9"
  }
 },
 "nbformat": 4,
 "nbformat_minor": 2
}
